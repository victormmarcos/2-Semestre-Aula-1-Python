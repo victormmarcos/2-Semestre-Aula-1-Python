{
 "cells": [
  {
   "cell_type": "code",
   "execution_count": 12,
   "metadata": {},
   "outputs": [
    {
     "name": "stdout",
     "output_type": "stream",
     "text": [
      "8.0 8.0 8.0 8.0\n"
     ]
    }
   ],
   "source": [
    "# 1 - Crie um programa que solicite tres notas para tres alunos. Após isso, calcule a média de cada aluno e retorne a média global. Utilize estrutura de entrada para o usuário\n",
    "\n",
    "nota_aluno1 = []\n",
    "nota_aluno2 = []\n",
    "nota_aluno3 = []\n",
    "media_global = []\n",
    "\n",
    "for k in range (3):\n",
    "    nota1 = float(input(\"Digite sua nota:\"))\n",
    "    nota_aluno1.append(nota1)\n",
    "\n",
    "for k in range (3):\n",
    "    nota2 = float(input(\"Digite sua nota:\"))\n",
    "    nota_aluno2.append(nota2)\n",
    "\n",
    "for k in range (3):\n",
    "    nota3 = float(input(\"Digite sua nota:\"))\n",
    "    nota_aluno3.append(nota3)\n",
    "\n",
    "media_1 = sum(nota_aluno1) / 3\n",
    "media_2 = sum(nota_aluno2) / 3\n",
    "media_3 = sum(nota_aluno3) / 3\n",
    "\n",
    "media_global.append(media_1)\n",
    "media_global.append(media_2)\n",
    "media_global.append(media_3)\n",
    "media_final = sum(media_global) / 3\n",
    "\n",
    "print(media_1, media_2, media_3, media_final)\n"
   ]
  },
  {
   "cell_type": "code",
   "execution_count": 18,
   "metadata": {},
   "outputs": [
    {
     "name": "stdout",
     "output_type": "stream",
     "text": [
      "9\n"
     ]
    }
   ],
   "source": [
    "lista_nf = [\n",
    "    (8,80),\n",
    "    (7,85),\n",
    "    (75,90),\n",
    "    (9,70)\n",
    "]\n",
    "\n",
    "print(lista_nf[3][0])"
   ]
  },
  {
   "cell_type": "code",
   "execution_count": 20,
   "metadata": {},
   "outputs": [
    {
     "name": "stdout",
     "output_type": "stream",
     "text": [
      "Seu salário líquido é 2550.0 e seu desconto foi de 450.0\n"
     ]
    }
   ],
   "source": [
    "# Crie um programa para calcular o desconto no salário em função da tabela de imposto de renda abaixo. Retorne o desconto e o salario líquido. Resolva o exercício sem e com o recurso de lista.\n",
    "\n",
    "# Faixa 1: Até R$ 2.112: Isento\n",
    "# Faixa 2: De R$ 2.112 até R$ 2.826,66: 7,5%\n",
    "# Faixa 3: De R$ 2.826,67 até R$ 3751.06: 15%\n",
    "# Faixa 4: De R$ 3.751.07 até R$ 4.664,68: 22,5%\n",
    "# Faixa 5: Acima de R$ 4.668,68: 27,5%\n",
    "\n",
    "\n",
    "salario = float(input(\"Digite o salário:\"))\n",
    "\n",
    "if salario <= 2112:\n",
    "    print(f\"Seu salário não possui desconto de imposto de renda\")\n",
    "elif salario > 2112 and salario <= 2826.66:\n",
    "    desconto_faixa2 = salario * 0.075\n",
    "    salario_liq2 = salario - (salario * 0.075)\n",
    "    print(f\"Seu salário líquido é {salario_liq2} e seu desconto foi de {desconto_faixa2}\")\n",
    "elif salario >= 2826.67 and salario <= 3751.06:\n",
    "    desconto_faixa3 = salario * 0.15\n",
    "    salario_liq3 = salario - (salario * 0.15)\n",
    "    print(f\"Seu salário líquido é {salario_liq3} e seu desconto foi de {desconto_faixa3}\")\n",
    "elif salario >= 3751.07 and salario <= 4664.68:\n",
    "    desconto_faixa4 = salario * 0.225\n",
    "    salario_liq4 = salario - (salario * 0.225)\n",
    "    print(f\"Seu salário líquido é {salario_liq4} e seu desconto foi de {desconto_faixa4}\")\n",
    "else:\n",
    "    desconto_faixa5 = salario * 0.275\n",
    "    salario_liq5 = salario - (salario * 0.275)\n",
    "    print(f\"Seu salário líquido é {salario_liq5} e seu desconto foi de {desconto_faixa5}\")"
   ]
  },
  {
   "cell_type": "code",
   "execution_count": null,
   "metadata": {},
   "outputs": [],
   "source": [
    "lista_desconto = [\n",
    "    (2112, 1),\n",
    "    (2112.01, 0.075),\n",
    "    (2826.67, 0.15),\n",
    "    (3751.07, 0.225),\n",
    "    (4664.69, 0.275)\n",
    "    ]\n",
    "\n",
    "\n"
   ]
  },
  {
   "cell_type": "code",
   "execution_count": 2,
   "metadata": {},
   "outputs": [
    {
     "name": "stdout",
     "output_type": "stream",
     "text": [
      "2000.0\n"
     ]
    }
   ],
   "source": [
    "salario = float(input(\"Digite o salário:\"))\n",
    "\n",
    "lista_desconto = [\n",
    "    (2112, 0),\n",
    "    (2826.66, 0.075),\n",
    "    (3751.66, 0.15),\n",
    "    (4664.68, 0.225),\n",
    "    (float('inf'), 0.275)\n",
    "]\n",
    "\n",
    "for limite, taxa in lista_desconto:\n",
    "    if salario <= limite:\n",
    "        desconto = salario * taxa\n",
    "        liquido = salario - desconto\n",
    "    break\n",
    "\n",
    "print(liquido)"
   ]
  }
 ],
 "metadata": {
  "kernelspec": {
   "display_name": "Python 3",
   "language": "python",
   "name": "python3"
  },
  "language_info": {
   "codemirror_mode": {
    "name": "ipython",
    "version": 3
   },
   "file_extension": ".py",
   "mimetype": "text/x-python",
   "name": "python",
   "nbconvert_exporter": "python",
   "pygments_lexer": "ipython3",
   "version": "3.11.7"
  }
 },
 "nbformat": 4,
 "nbformat_minor": 2
}
